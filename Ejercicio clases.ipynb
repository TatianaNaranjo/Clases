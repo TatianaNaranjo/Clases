{
 "cells": [
  {
   "cell_type": "markdown",
   "metadata": {},
   "source": [
    "# Ejercicio\n",
    "Realizar un programa que conste de una clase llamada Alumno que tenga como atributos el nombre y la nota del alumno. \n",
    "Definir los métodos para inicializar sus atributos, imprimirlos(Nombre y Nota) y mostrar un mensaje con el resultado de la nota y si ha aprobado o no --> Menos que 5 no aprueba"
   ]
  },
  {
   "cell_type": "code",
   "execution_count": 70,
   "metadata": {},
   "outputs": [],
   "source": [
    "class Alumno: \n",
    "#Definir su constructor\n",
    "  def __init__(self,nombre,nota):\n",
    "        self.nombre=nombre\n",
    "        self.nota=nota\n",
    "#Definir metodo imprimir\n",
    "  def imprimir(self):\n",
    "        print(\"Nombre:\", self.nombre)\n",
    "        print(\"Nota:\", self.nota)\n",
    "#Definir metodo imprimir\n",
    "  def resultado(self):\n",
    "        if self.nota < 5: \n",
    "            print(\"No ha aprobado\")\n",
    "        else:\n",
    "            print(\"Ha aprobado\")\n",
    "\n"
   ]
  },
  {
   "cell_type": "code",
   "execution_count": 71,
   "metadata": {},
   "outputs": [],
   "source": [
    "alumno1= Alumno(\"Tatiana\", 5)"
   ]
  },
  {
   "cell_type": "code",
   "execution_count": 72,
   "metadata": {},
   "outputs": [],
   "source": [
    "alumno = Alumno(\"Juan\", 8)\n",
    "alumno3 = Alumno(\"Maria\", 4)"
   ]
  },
  {
   "cell_type": "code",
   "execution_count": 73,
   "metadata": {},
   "outputs": [
    {
     "name": "stdout",
     "output_type": "stream",
     "text": [
      "Nombre: Tatiana\n",
      "Nota: 5\n",
      "Ha aprobado\n"
     ]
    }
   ],
   "source": [
    "#Validar\n",
    "alumno1.imprimir()\n",
    "alumno1.resultado()"
   ]
  }
 ],
 "metadata": {
  "kernelspec": {
   "display_name": "Python 3.10.2 64-bit",
   "language": "python",
   "name": "python3"
  },
  "language_info": {
   "codemirror_mode": {
    "name": "ipython",
    "version": 3
   },
   "file_extension": ".py",
   "mimetype": "text/x-python",
   "name": "python",
   "nbconvert_exporter": "python",
   "pygments_lexer": "ipython3",
   "version": "3.10.2"
  },
  "orig_nbformat": 4,
  "vscode": {
   "interpreter": {
    "hash": "110fe3fb9777db4ce1f884af3cc527a40b2c98427ad17781c021ef692bd3d28d"
   }
  }
 },
 "nbformat": 4,
 "nbformat_minor": 2
}
