{
  "cells": [
    {
      "cell_type": "code",
      "execution_count": 13,
      "metadata": {
        "id": "Kfo6_uFXPPwF"
      },
      "outputs": [],
      "source": [
        "class Animal: \n",
        "\n",
        "  def __init__(self, especie, edad):#Constructor como siempre en la clase Padre\n",
        "    self.especie = especie\n",
        "    self.edad = edad\n",
        "\n",
        "  def hablar(self):  #Método generico vacio por ahora\n",
        "    print(\"este es el metodo hablar\")\n",
        "\n",
        "  def moverse(self): #Método generico vacio por ahora\n",
        "    print(\"este es el metodo moverse\")"
      ]
    },
    {
      "cell_type": "code",
      "execution_count": 14,
      "metadata": {
        "id": "Vspsvr2EPRPI"
      },
      "outputs": [],
      "source": [
        "class Perro(Animal):\n",
        "  pass"
      ]
    },
    {
      "cell_type": "code",
      "execution_count": 15,
      "metadata": {},
      "outputs": [],
      "source": [
        "perro1 = Perro(\"Mamífero\", 11)  #INCREIBLE, cree un perro y la clase perro no "
      ]
    },
    {
      "cell_type": "code",
      "execution_count": 16,
      "metadata": {
        "colab": {
          "base_uri": "https://localhost:8080/",
          "height": 226
        },
        "id": "xbjle3r7PU-H",
        "outputId": "edcc2e51-5c73-40e9-f73f-2126b82fe2c2"
      },
      "outputs": [
        {
          "name": "stdout",
          "output_type": "stream",
          "text": [
            "este es el metodo hablar\n"
          ]
        }
      ],
      "source": [
        "perro1.hablar()"
      ]
    }
  ],
  "metadata": {
    "colab": {
      "name": "Clase y Objetos - Privados.ipynb",
      "provenance": []
    },
    "kernelspec": {
      "display_name": "Python 3.10.2 64-bit",
      "language": "python",
      "name": "python3"
    },
    "language_info": {
      "codemirror_mode": {
        "name": "ipython",
        "version": 3
      },
      "file_extension": ".py",
      "mimetype": "text/x-python",
      "name": "python",
      "nbconvert_exporter": "python",
      "pygments_lexer": "ipython3",
      "version": "3.10.2"
    },
    "vscode": {
      "interpreter": {
        "hash": "110fe3fb9777db4ce1f884af3cc527a40b2c98427ad17781c021ef692bd3d28d"
      }
    }
  },
  "nbformat": 4,
  "nbformat_minor": 0
}
